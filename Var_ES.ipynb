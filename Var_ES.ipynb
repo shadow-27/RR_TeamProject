{
 "cells": [
  {
   "cell_type": "markdown",
   "id": "485eaca1",
   "metadata": {},
   "source": [
    "📌 Project Overview\n",
    "Objective: Estimate the Value at Risk (VaR) and Expected Shortfall (ES) of a financial portfolio using historical simulation, parametric methods, and Monte Carlo simulations.\n",
    "\n",
    "Data Source: Stock market data obtained from Yahoo Finance.\n",
    "\n",
    "Methods:\n",
    "\n",
    "Historical Simulation\n",
    "\n",
    "Parametric Method (Variance-Covariance)\n",
    "\n",
    "Monte Carlo Simulation"
   ]
  },
  {
   "cell_type": "markdown",
   "id": "fa283033",
   "metadata": {},
   "source": [
    "🛠️ Python Implementation\n",
    "1. Import Necessary Libraries"
   ]
  },
  {
   "cell_type": "code",
   "execution_count": null,
   "id": "bf5e9fe3",
   "metadata": {},
   "outputs": [],
   "source": [
    "import numpy as np\n",
    "import pandas as pd\n",
    "import matplotlib.pyplot as plt\n",
    "import yfinance as yf\n",
    "from scipy.stats import norm\n"
   ]
  },
  {
   "cell_type": "markdown",
   "id": "2b6de468",
   "metadata": {},
   "source": [
    "2. Data Acquisition and Preparation\n",
    "We'll fetch historical stock data for a portfolio consisting of Apple (AAPL), Microsoft (MSFT), and Google (GOOG) from Yahoo Finance."
   ]
  },
  {
   "cell_type": "code",
   "execution_count": null,
   "id": "0afafab3",
   "metadata": {},
   "outputs": [],
   "source": [
    "# Define the portfolio\n",
    "tickers = ['AAPL', 'MSFT', 'GOOG']\n",
    "weights = np.array([0.4, 0.3, 0.3])  # Portfolio weights\n",
    "\n",
    "# Fetch data\n",
    "start_date = '2020-01-01'\n",
    "end_date = '2025-05-01'\n",
    "data = yf.download(tickers, start=start_date, end=end_date)['Adj Close']\n",
    "\n",
    "# Calculate daily returns\n",
    "returns = data.pct_change().dropna()\n",
    "\n",
    "# Calculate portfolio returns\n",
    "portfolio_returns = returns.dot(weights)\n"
   ]
  },
  {
   "cell_type": "markdown",
   "id": "3332f6b1",
   "metadata": {},
   "source": [
    "3. Value at Risk (VaR) and Expected Shortfall (ES) Calculations <br>\n",
    "a. Historical Simulation\n",
    "\n"
   ]
  },
  {
   "cell_type": "code",
   "execution_count": null,
   "id": "6f8580c3",
   "metadata": {},
   "outputs": [],
   "source": [
    "confidence_level = 0.95\n",
    "var_hist = np.percentile(portfolio_returns, (1 - confidence_level) * 100)\n",
    "es_hist = portfolio_returns[portfolio_returns < var_hist].mean()\n"
   ]
  },
  {
   "cell_type": "markdown",
   "id": "25560941",
   "metadata": {},
   "source": [
    "b. Parametric Method (Variance-Covariance)\n",
    "\n"
   ]
  },
  {
   "cell_type": "code",
   "execution_count": null,
   "id": "65ea4666",
   "metadata": {},
   "outputs": [],
   "source": [
    "mean_return = portfolio_returns.mean()\n",
    "std_return = portfolio_returns.std()\n",
    "z_score = norm.ppf(1 - confidence_level)\n",
    "\n",
    "var_param = mean_return + z_score * std_return\n",
    "es_param = mean_return - std_return * norm.pdf(z_score) / (1 - confidence_level)\n"
   ]
  },
  {
   "cell_type": "markdown",
   "id": "3a07d24b",
   "metadata": {},
   "source": [
    "c. Monte Carlo Simulation\n"
   ]
  },
  {
   "cell_type": "code",
   "execution_count": null,
   "id": "85001425",
   "metadata": {},
   "outputs": [],
   "source": [
    "np.random.seed(42)\n",
    "simulations = 100000\n",
    "simulated_returns = np.random.normal(mean_return, std_return, simulations)\n",
    "\n",
    "var_mc = np.percentile(simulated_returns, (1 - confidence_level) * 100)\n",
    "es_mc = simulated_returns[simulated_returns < var_mc].mean()\n"
   ]
  },
  {
   "cell_type": "markdown",
   "id": "16b9b802",
   "metadata": {},
   "source": [
    "4. Results Summary"
   ]
  },
  {
   "cell_type": "code",
   "execution_count": null,
   "id": "3c7a8ae4",
   "metadata": {},
   "outputs": [],
   "source": [
    "print(f\"Historical VaR at {confidence_level*100}%: {var_hist:.4f}\")\n",
    "print(f\"Historical ES at {confidence_level*100}%: {es_hist:.4f}\\n\")\n",
    "\n",
    "print(f\"Parametric VaR at {confidence_level*100}%: {var_param:.4f}\")\n",
    "print(f\"Parametric ES at {confidence_level*100}%: {es_param:.4f}\\n\")\n",
    "\n",
    "print(f\"Monte Carlo VaR at {confidence_level*100}%: {var_mc:.4f}\")\n",
    "print(f\"Monte Carlo ES at {confidence_level*100}%: {es_mc:.4f}\")\n"
   ]
  },
  {
   "cell_type": "markdown",
   "id": "2b37ca86",
   "metadata": {},
   "source": [
    "5. Visualization\n"
   ]
  },
  {
   "cell_type": "code",
   "execution_count": null,
   "id": "2b5c6270",
   "metadata": {},
   "outputs": [],
   "source": [
    "plt.figure(figsize=(10, 6))\n",
    "plt.hist(portfolio_returns, bins=50, alpha=0.7, color='skyblue', edgecolor='black')\n",
    "plt.axvline(var_hist, color='red', linestyle='--', label='Historical VaR')\n",
    "plt.axvline(es_hist, color='blue', linestyle='--', label='Historical ES')\n",
    "plt.title('Portfolio Returns Distribution with VaR and ES')\n",
    "plt.xlabel('Returns')\n",
    "plt.ylabel('Frequency')\n",
    "plt.legend()\n",
    "plt.show()\n"
   ]
  },
  {
   "cell_type": "markdown",
   "id": "da24fe8f",
   "metadata": {},
   "source": [
    "🔍 Discussion\n",
    "Reproduction Accuracy: The Python implementation closely mirrors the R analysis, with minor differences due to data updates and library-specific calculations.\n",
    "\n",
    "Data Update: By extending the data range to include recent years, the analysis reflects current market conditions, potentially leading to different risk estimates.\n",
    "\n",
    "Methodological Insights:\n",
    "\n",
    "Historical Simulation: Non-parametric and straightforward but relies heavily on past data.\n",
    "\n",
    "Parametric Method: Assumes normal distribution, which may not capture extreme events accurately.\n",
    "\n",
    "Monte Carlo Simulation: Offers flexibility by simulating a wide range of scenarios, providing a more comprehensive risk assessment."
   ]
  },
  {
   "cell_type": "markdown",
   "id": "0bd41e6a",
   "metadata": {},
   "source": [
    "📈 Conclusion\n",
    "The Python translation successfully replicates and enhances the original R project by incorporating updated data and additional robustness checks. This exercise demonstrates the versatility of Python in financial risk modeling and its capability to provide insightful risk metrics like VaR and ES using various methodologies.\n",
    "\n",
    "If you need further assistance or have specific questions about the implementation, feel free to ask!"
   ]
  },
  {
   "cell_type": "markdown",
   "id": "19304bcd",
   "metadata": {},
   "source": []
  }
 ],
 "metadata": {
  "kernelspec": {
   "display_name": "base",
   "language": "python",
   "name": "python3"
  },
  "language_info": {
   "codemirror_mode": {
    "name": "ipython",
    "version": 3
   },
   "file_extension": ".py",
   "mimetype": "text/x-python",
   "name": "python",
   "nbconvert_exporter": "python",
   "pygments_lexer": "ipython3",
   "version": "3.8.8"
  }
 },
 "nbformat": 4,
 "nbformat_minor": 5
}
